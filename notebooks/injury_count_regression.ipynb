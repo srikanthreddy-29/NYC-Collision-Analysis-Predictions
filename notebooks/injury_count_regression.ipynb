{
 "cells": [
  {
   "cell_type": "code",
   "execution_count": 1,
   "id": "2bad6420",
   "metadata": {},
   "outputs": [
    {
     "name": "stdout",
     "output_type": "stream",
     "text": [
      "📊 Gradient Boosting Regression Model Metrics:\n",
      "MAE  : 0.4978\n",
      "RMSE : 0.7400\n",
      "R²   : 0.0484\n",
      "✅ Model saved as 'models/gbr_injury_count.pkl'\n"
     ]
    }
   ],
   "source": [
    "# 📦 Import Libraries\n",
    "import pandas as pd\n",
    "import numpy as np\n",
    "import joblib\n",
    "from sklearn.model_selection import train_test_split\n",
    "from sklearn.metrics import mean_absolute_error, mean_squared_error, r2_score\n",
    "from sklearn.preprocessing import LabelEncoder\n",
    "from sklearn.ensemble import GradientBoostingRegressor\n",
    "\n",
    "# 📥 Load Cleaned Dataset\n",
    "df = pd.read_csv(\"../data/cleaned_data/nyc_collisions_cleaned.csv\")\n",
    "\n",
    "# 🧠 Feature Engineering\n",
    "df[\"crash_hour\"] = pd.to_datetime(df[\"crash_time\"], format=\"%H:%M\", errors=\"coerce\").dt.hour\n",
    "df[\"crash_date\"] = pd.to_datetime(df[\"crash_date\"], dayfirst=True, errors=\"coerce\")\n",
    "df[\"day_of_week\"] = df[\"crash_date\"].dt.day_name()\n",
    "df[\"year\"] = df[\"crash_date\"].dt.year\n",
    "\n",
    "# 🎯 Select Features and Target\n",
    "features = [\"borough\", \"contributing_factor_vehicle_1\", \"vehicle_type_code1\", \"crash_hour\", \"day_of_week\", \"year\"]\n",
    "target = \"number_of_persons_injured\"\n",
    "df_model = df.dropna(subset=features)\n",
    "\n",
    "# 🔁 Simplify Categorical Variables\n",
    "top_factors = df_model[\"contributing_factor_vehicle_1\"].value_counts().nlargest(10).index\n",
    "top_vehicles = df_model[\"vehicle_type_code1\"].value_counts().nlargest(10).index\n",
    "df_model[\"contributing_factor_vehicle_1\"] = df_model[\"contributing_factor_vehicle_1\"].apply(lambda x: x if x in top_factors else \"Other\")\n",
    "df_model[\"vehicle_type_code1\"] = df_model[\"vehicle_type_code1\"].apply(lambda x: x if x in top_vehicles else \"Other\")\n",
    "\n",
    "# 🔤 Encode Categorical Columns\n",
    "le_borough = LabelEncoder()\n",
    "le_factor = LabelEncoder()\n",
    "le_vehicle = LabelEncoder()\n",
    "le_day = LabelEncoder()\n",
    "\n",
    "df_model[\"borough_enc\"] = le_borough.fit_transform(df_model[\"borough\"])\n",
    "df_model[\"factor_enc\"] = le_factor.fit_transform(df_model[\"contributing_factor_vehicle_1\"])\n",
    "df_model[\"vehicle_enc\"] = le_vehicle.fit_transform(df_model[\"vehicle_type_code1\"])\n",
    "df_model[\"day_enc\"] = le_day.fit_transform(df_model[\"day_of_week\"])\n",
    "\n",
    "# 🧪 Define X and y\n",
    "X = df_model[[\"borough_enc\", \"factor_enc\", \"vehicle_enc\", \"crash_hour\", \"day_enc\", \"year\"]]\n",
    "y = df_model[target]\n",
    "\n",
    "# 🔄 Log Transform Target\n",
    "y_log = np.log1p(y)  # log(1 + y) to handle zeros\n",
    "\n",
    "# 🔀 Split Data\n",
    "X_train, X_test, y_train_log, y_test_log = train_test_split(X, y_log, test_size=0.2, random_state=42)\n",
    "\n",
    "# 🌲 Train Gradient Boosting Model\n",
    "gbr = GradientBoostingRegressor(n_estimators=150, learning_rate=0.1, max_depth=5, random_state=42)\n",
    "gbr.fit(X_train, y_train_log)\n",
    "\n",
    "# 📈 Predict & Inverse Transform\n",
    "y_pred_log = gbr.predict(X_test)\n",
    "y_pred_actual = np.expm1(y_pred_log)  # Reverse log1p\n",
    "y_test_actual = np.expm1(y_test_log)\n",
    "\n",
    "# 📊 Evaluation Metrics\n",
    "mae = mean_absolute_error(y_test_actual, y_pred_actual)\n",
    "rmse = np.sqrt(mean_squared_error(y_test_actual, y_pred_actual))\n",
    "r2 = r2_score(y_test_actual, y_pred_actual)\n",
    "\n",
    "print(\"📊 Gradient Boosting Regression Model Metrics:\")\n",
    "print(f\"MAE  : {mae:.4f}\")\n",
    "print(f\"RMSE : {rmse:.4f}\")\n",
    "print(f\"R²   : {r2:.4f}\")\n",
    "\n",
    "# 💾 Save the Model\n",
    "import os\n",
    "os.makedirs(\"models\", exist_ok=True)\n",
    "joblib.dump(gbr, \"../models/gbr_injury_count.pkl\")\n",
    "print(\"✅ Model saved as 'models/gbr_injury_count.pkl'\")\n"
   ]
  },
  {
   "cell_type": "code",
   "execution_count": null,
   "id": "53dadc2b",
   "metadata": {},
   "outputs": [],
   "source": []
  }
 ],
 "metadata": {
  "kernelspec": {
   "display_name": "Python 3",
   "language": "python",
   "name": "python3"
  },
  "language_info": {
   "codemirror_mode": {
    "name": "ipython",
    "version": 3
   },
   "file_extension": ".py",
   "mimetype": "text/x-python",
   "name": "python",
   "nbconvert_exporter": "python",
   "pygments_lexer": "ipython3",
   "version": "3.12.4"
  }
 },
 "nbformat": 4,
 "nbformat_minor": 5
}
